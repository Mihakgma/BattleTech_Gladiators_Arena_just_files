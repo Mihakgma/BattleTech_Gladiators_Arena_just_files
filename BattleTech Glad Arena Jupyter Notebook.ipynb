{
 "cells": [
  {
   "cell_type": "code",
   "execution_count": 1,
   "metadata": {},
   "outputs": [],
   "source": [
    "import os\n",
    "os.chdir('C:\\\\Users\\\\Мишаня\\\\PycharmProjects\\\\BattleTechArena')\n",
    "os.getcwd()\n",
    "from testBTExamples import *\n",
    "from TestBattle import Battle1vs1\n",
    "\n",
    "allBTunitsLst = [\n",
    "    testBT1,\n",
    "    testBT2,\n",
    "    testBT3,\n",
    "    testBT4,\n",
    "    testBT5,\n",
    "    testBT6,\n",
    "    testBT7\n",
    "]"
   ]
  },
  {
   "cell_type": "code",
   "execution_count": 2,
   "metadata": {},
   "outputs": [],
   "source": [
    "def testBattle1ManualPC(testBTfirst, testBTsecond):\n",
    "    battleTest1 = Battle1vs1(testBTfirst, testBTsecond, battleTech1Regime='manual')\n",
    "\n",
    "\n",
    "    roundNum = 0\n",
    "    while battleTest1.startNewRound():\n",
    "        #print('###')\n",
    "        #print()\n",
    "        roundNum += 1\n",
    "        #sleep(0.09) # задержка между раундами (опционально)\n",
    "        #print(f'ROUND {roundNum}')\n",
    "        #print('###')\n",
    "        #print()\n",
    "\n",
    "    # after battle\n",
    "    BT1ArmorAfter = testBTfirst.get_armor_volume()\n",
    "    BT2ArmorAfter = testBTsecond.get_armor_volume()\n",
    "    BT1StaminaAfter = testBTfirst.get_stamina_capacity()\n",
    "    BT2StaminaAfter = testBTsecond.get_stamina_capacity()\n",
    "\n",
    "    battleWonBT = 0\n",
    "    if BT1StaminaAfter == BT2StaminaAfter == 0:\n",
    "        pass\n",
    "    elif BT1StaminaAfter > 0 and BT2StaminaAfter == 0:\n",
    "        battleWonBT = 1\n",
    "    elif BT2StaminaAfter > 0 and BT1StaminaAfter == 0:\n",
    "        battleWonBT = 2\n",
    "\n",
    "    battleResultsLst = [\n",
    "        battleTest1.get_currentRoundNumber(),\n",
    "        BT1ArmorAfter,\n",
    "        BT2ArmorAfter,\n",
    "        BT1StaminaAfter,\n",
    "        BT2StaminaAfter,\n",
    "        battleWonBT\n",
    "    ]\n",
    "\n",
    "    #battleResultsTpl = tuple(battleResultsLst)\n",
    "\n",
    "    return battleResultsLst"
   ]
  },
  {
   "cell_type": "code",
   "execution_count": 3,
   "metadata": {
    "scrolled": true
   },
   "outputs": [
    {
     "name": "stdout",
     "output_type": "stream",
     "text": [
      "БОЙ Scout против Stix !\n",
      "\n",
      "Режим управления Scout: manual\n",
      "Режим управления Stix: PC\n",
      "\n",
      "\n",
      "1 - активировать медленную регенерацию\n",
      "2 - активировать уникальную способность\n",
      "3 - обычная атака и защита\n",
      "Выберите один из вышепредложенных вариантов1\n",
      "Scout активирует медленную регенерацию!\n",
      "Weapon fail probs border: 0.077 Random probs got now: 0.25541\n",
      "Stix использует Крупнокалиберный пулемет!\n",
      "И собирается нанести 25 пунктов <phisical> урона!\n",
      "Scout выбрал защиту с помощью invulnerable!\n",
      "Scout неуязвим к <phisical> атаке Stix,  что позволяет ему снизить получаемый урон на 25 пунктов!\n",
      "Stix выбрал защиту с помощью move!\n",
      "Stix не удалось выбрать эффективную защиту против атаки Scout :-(\n",
      "Броня Stix уменьшилась на 0 пунктов\n",
      "Броня Scout уменьшилась на 0 пунктов\n",
      "Stix пополняет боекомплект патронов на 1 ед. !\n",
      "1 - активировать медленную регенерацию\n",
      "2 - активировать уникальную способность\n",
      "3 - обычная атака и защита\n",
      "Выберите один из вышепредложенных вариантов3\n",
      "1 - Станковый пулемет\n",
      "2 - Контрактный бластер\n",
      "3 - Катюша\n",
      "Введите индекс орудия для атаки: 3\n",
      "Weapon fail probs border: 0.287 Random probs got now: 0.8192\n",
      "Scout использует Катюша!\n",
      "И собирается нанести 63 пунктов <explosive> урона!\n",
      "\n",
      "1 - Уклонение\n",
      "2 - Физический Щит\n",
      "3 - Энергетический щит\n",
      "Выберите один из видов предложенной защиты: 1\n",
      "Weapon fail probs border: 0.623 Random probs got now: 0.21239\n",
      "Stix пытается использовать Промышленная резка!\n",
      "Орудие не сработало!\n",
      "Scout выбрал защиту с помощью move!\n",
      "Scout не удалось выбрать эффективную защиту против атаки Stix :-(\n",
      "Stix выбрал защиту с помощью phisical shield!\n",
      "Stix не удалось выбрать эффективную защиту против атаки Scout :-(\n",
      "Броня Stix уменьшилась на 63 пунктов\n",
      "Броня Scout уменьшилась на 0 пунктов\n",
      "Stix пополняет боекомплект патронов на 1 ед. !\n",
      "1 - активировать медленную регенерацию\n",
      "2 - активировать уникальную способность\n",
      "3 - обычная атака и защита\n",
      "Выберите один из вышепредложенных вариантов3\n",
      "1 - Станковый пулемет\n",
      "2 - Контрактный бластер\n",
      "3 - Катюша\n",
      "Введите индекс орудия для атаки: dkfgmfdg\n"
     ]
    },
    {
     "ename": "ValueError",
     "evalue": "invalid literal for int() with base 10: 'dkfgmfdg'",
     "output_type": "error",
     "traceback": [
      "\u001b[1;31m---------------------------------------------------------------------------\u001b[0m",
      "\u001b[1;31mValueError\u001b[0m                                Traceback (most recent call last)",
      "\u001b[1;32m<ipython-input-3-3b5653df1862>\u001b[0m in \u001b[0;36m<module>\u001b[1;34m\u001b[0m\n\u001b[0;32m      1\u001b[0m \u001b[1;31m#testBT1.set_slowRegenStatus(1)\u001b[0m\u001b[1;33m\u001b[0m\u001b[1;33m\u001b[0m\u001b[1;33m\u001b[0m\u001b[0m\n\u001b[1;32m----> 2\u001b[1;33m \u001b[0mtestBattle1ManualPC\u001b[0m\u001b[1;33m(\u001b[0m\u001b[0mtestBT4\u001b[0m\u001b[1;33m,\u001b[0m \u001b[0mtestBT1\u001b[0m\u001b[1;33m)\u001b[0m\u001b[1;33m\u001b[0m\u001b[1;33m\u001b[0m\u001b[0m\n\u001b[0m",
      "\u001b[1;32m<ipython-input-2-c77ef0f1b6a2>\u001b[0m in \u001b[0;36mtestBattle1ManualPC\u001b[1;34m(testBTfirst, testBTsecond)\u001b[0m\n\u001b[0;32m      4\u001b[0m \u001b[1;33m\u001b[0m\u001b[0m\n\u001b[0;32m      5\u001b[0m     \u001b[0mroundNum\u001b[0m \u001b[1;33m=\u001b[0m \u001b[1;36m0\u001b[0m\u001b[1;33m\u001b[0m\u001b[1;33m\u001b[0m\u001b[0m\n\u001b[1;32m----> 6\u001b[1;33m     \u001b[1;32mwhile\u001b[0m \u001b[0mbattleTest1\u001b[0m\u001b[1;33m.\u001b[0m\u001b[0mstartNewRound\u001b[0m\u001b[1;33m(\u001b[0m\u001b[1;33m)\u001b[0m\u001b[1;33m:\u001b[0m\u001b[1;33m\u001b[0m\u001b[1;33m\u001b[0m\u001b[0m\n\u001b[0m\u001b[0;32m      7\u001b[0m         \u001b[1;31m#print('###')\u001b[0m\u001b[1;33m\u001b[0m\u001b[1;33m\u001b[0m\u001b[1;33m\u001b[0m\u001b[0m\n\u001b[0;32m      8\u001b[0m         \u001b[1;31m#print()\u001b[0m\u001b[1;33m\u001b[0m\u001b[1;33m\u001b[0m\u001b[1;33m\u001b[0m\u001b[0m\n",
      "\u001b[1;32m~\\PycharmProjects\\BattleTechArena\\TestBattle.py\u001b[0m in \u001b[0;36mstartNewRound\u001b[1;34m(self)\u001b[0m\n\u001b[0;32m     55\u001b[0m \u001b[1;33m\u001b[0m\u001b[0m\n\u001b[0;32m     56\u001b[0m         \u001b[1;32melif\u001b[0m \u001b[0mbattleTech1Regime\u001b[0m \u001b[1;33m==\u001b[0m \u001b[1;34m'manual'\u001b[0m\u001b[1;33m:\u001b[0m\u001b[1;33m\u001b[0m\u001b[1;33m\u001b[0m\u001b[0m\n\u001b[1;32m---> 57\u001b[1;33m             \u001b[0mbattleTech1AttackDefend\u001b[0m \u001b[1;33m=\u001b[0m \u001b[0mself\u001b[0m\u001b[1;33m.\u001b[0m\u001b[0mmanualPiloting\u001b[0m\u001b[1;33m(\u001b[0m\u001b[0mbattleTech1\u001b[0m\u001b[1;33m)\u001b[0m\u001b[1;33m\u001b[0m\u001b[1;33m\u001b[0m\u001b[0m\n\u001b[0m\u001b[0;32m     58\u001b[0m \u001b[1;33m\u001b[0m\u001b[0m\n\u001b[0;32m     59\u001b[0m \u001b[1;33m\u001b[0m\u001b[0m\n",
      "\u001b[1;32m~\\PycharmProjects\\BattleTechArena\\TestBattle.py\u001b[0m in \u001b[0;36mmanualPiloting\u001b[1;34m(self, currentBattleTech)\u001b[0m\n\u001b[0;32m    356\u001b[0m \u001b[1;33m\u001b[0m\u001b[0m\n\u001b[0;32m    357\u001b[0m         \u001b[1;32mif\u001b[0m \u001b[0mactionChoiseKey\u001b[0m \u001b[1;33m==\u001b[0m \u001b[1;36m3\u001b[0m\u001b[1;33m:\u001b[0m\u001b[1;33m\u001b[0m\u001b[1;33m\u001b[0m\u001b[0m\n\u001b[1;32m--> 358\u001b[1;33m             \u001b[1;32mreturn\u001b[0m \u001b[0musual_attack_defend_actions\u001b[0m\u001b[1;33m(\u001b[0m\u001b[1;33m)\u001b[0m\u001b[1;33m\u001b[0m\u001b[1;33m\u001b[0m\u001b[0m\n\u001b[0m\u001b[0;32m    359\u001b[0m         \u001b[1;32melif\u001b[0m \u001b[0mactionChoiseKey\u001b[0m \u001b[1;33m==\u001b[0m \u001b[1;36m2\u001b[0m\u001b[1;33m:\u001b[0m\u001b[1;33m\u001b[0m\u001b[1;33m\u001b[0m\u001b[0m\n\u001b[0;32m    360\u001b[0m             \u001b[1;32mpass\u001b[0m\u001b[1;33m\u001b[0m\u001b[1;33m\u001b[0m\u001b[0m\n",
      "\u001b[1;32m~\\PycharmProjects\\BattleTechArena\\TestBattle.py\u001b[0m in \u001b[0;36musual_attack_defend_actions\u001b[1;34m()\u001b[0m\n\u001b[0;32m    329\u001b[0m                 \u001b[0mweaponName\u001b[0m \u001b[1;33m=\u001b[0m \u001b[0mweapon\u001b[0m\u001b[1;33m.\u001b[0m\u001b[0mget_name\u001b[0m\u001b[1;33m(\u001b[0m\u001b[1;33m)\u001b[0m\u001b[1;33m\u001b[0m\u001b[1;33m\u001b[0m\u001b[0m\n\u001b[0;32m    330\u001b[0m                 \u001b[0mprint\u001b[0m\u001b[1;33m(\u001b[0m\u001b[1;34mf'{weaponCounter} - {weaponName}'\u001b[0m\u001b[1;33m)\u001b[0m\u001b[1;33m\u001b[0m\u001b[1;33m\u001b[0m\u001b[0m\n\u001b[1;32m--> 331\u001b[1;33m             \u001b[0mchoisenWeaponIndex\u001b[0m \u001b[1;33m=\u001b[0m \u001b[0mint\u001b[0m\u001b[1;33m(\u001b[0m\u001b[0minput\u001b[0m\u001b[1;33m(\u001b[0m\u001b[1;34m'Введите индекс орудия для атаки: '\u001b[0m\u001b[1;33m)\u001b[0m\u001b[1;33m)\u001b[0m\u001b[1;33m\u001b[0m\u001b[1;33m\u001b[0m\u001b[0m\n\u001b[0m\u001b[0;32m    332\u001b[0m             \u001b[0mdamageChosen\u001b[0m \u001b[1;33m=\u001b[0m \u001b[0mcurrentBattleTech\u001b[0m\u001b[1;33m.\u001b[0m\u001b[0muse_weapon_by_lst_index\u001b[0m\u001b[1;33m(\u001b[0m\u001b[0mchoisenWeaponIndex\u001b[0m \u001b[1;33m-\u001b[0m \u001b[1;36m1\u001b[0m\u001b[1;33m)\u001b[0m\u001b[1;33m\u001b[0m\u001b[1;33m\u001b[0m\u001b[0m\n\u001b[0;32m    333\u001b[0m             \u001b[1;31m# choisenWeaponObj = weaponList[choisenWeaponIndex - 1]\u001b[0m\u001b[1;33m\u001b[0m\u001b[1;33m\u001b[0m\u001b[1;33m\u001b[0m\u001b[0m\n",
      "\u001b[1;31mValueError\u001b[0m: invalid literal for int() with base 10: 'dkfgmfdg'"
     ]
    }
   ],
   "source": [
    "#testBT1.set_slowRegenStatus(1)\n",
    "testBattle1ManualPC(testBT4, testBT1)"
   ]
  },
  {
   "cell_type": "code",
   "execution_count": 7,
   "metadata": {},
   "outputs": [
    {
     "name": "stdout",
     "output_type": "stream",
     "text": [
      "БОЙ Green Bug против Sparky !\n",
      "\n",
      "Режим управления Green Bug: manual\n",
      "Режим управления Sparky: PC\n",
      "\n",
      "\n",
      "1 - активировать медленную регенерацию\n",
      "2 - активировать уникальную способность\n",
      "3 - обычная атака и защита\n",
      "Выберите один из вышепредложенных вариантов1\n",
      "1 - Катюша\n",
      "2 - Контрактный бластер\n",
      "3 - Толстяк\n",
      "4 - Плазменный бластер\n",
      "5 - Промышленная резка\n",
      "Введите индекс орудия для атаки: 3\n",
      "Weapon fail probs border: 0.777 Random probs got now: 0.67546\n",
      "Green Bug пытается использовать Толстяк!\n",
      "Орудие не сработало!\n",
      "\n",
      "1 - Уклонение\n",
      "2 - Физический Щит\n",
      "3 - Энергетический щит\n",
      "Выберите один из видов предложенной защиты: 1\n",
      "Weapon fail probs border: 0.623 Random probs got now: 0.00083\n",
      "Sparky пытается использовать Промышленная резка!\n",
      "Орудие не сработало!\n",
      "Green Bug выбрал защиту с помощью move!\n",
      "Green Bug не удалось выбрать эффективную защиту против атаки Sparky :-(\n",
      "Sparky выбрал защиту с помощью energy shield!\n",
      "Sparky не удалось выбрать эффективную защиту против атаки Green Bug :-(\n",
      "Броня Sparky уменьшилась на 0 пунктов\n",
      "Броня Green Bug уменьшилась на 0 пунктов\n",
      "1 - активировать медленную регенерацию\n",
      "2 - активировать уникальную способность\n",
      "3 - обычная атака и защита\n",
      "Выберите один из вышепредложенных вариантов3\n",
      "1 - Катюша\n",
      "2 - Контрактный бластер\n",
      "3 - Толстяк\n",
      "4 - Плазменный бластер\n",
      "5 - Промышленная резка\n",
      "Введите индекс орудия для атаки: 2\n",
      "Weapon fail probs border: 0.133 Random probs got now: 0.45936\n",
      "Green Bug использует Контрактный бластер!\n",
      "И собирается нанести 149 пунктов <energetic> урона!\n",
      "\n",
      "1 - Уклонение\n",
      "2 - Физический Щит\n",
      "3 - Энергетический щит\n",
      "Выберите один из видов предложенной защиты: 3\n",
      "Weapon fail probs border: 0.553 Random probs got now: 0.94723\n",
      "Sparky использует Огнемет!\n",
      "И собирается нанести 111 пунктов <thermal> урона!\n",
      "Green Bug выбрал защиту с помощью energy shield!\n",
      "Green Bug успешно активировал энергетический щит против <thermal> атаки Sparky,  снизив урон на 61.050000000000004 пунктов!\n",
      "Sparky выбрал защиту с помощью energy shield!\n",
      "Sparky успешно активировал энергетический щит против <energetic> атаки Green Bug, снизив урон на 123.66999999999999 пунктов!\n",
      "Броня Sparky уменьшилась на 25.33 пунктов\n",
      "Стамина Green Bug уменьшилась на 49.95 пунктов\n",
      "Green Bug успешно восстанавливает 5 пунктов стамины!\n",
      "Sparky успешно восстанавливает 5 пунктов брони!\n",
      "Sparky успешно восстанавливает 1 пунктов энергии!\n",
      "1 - активировать медленную регенерацию\n",
      "2 - активировать уникальную способность\n",
      "3 - обычная атака и защита\n",
      "Выберите один из вышепредложенных вариантов3\n",
      "1 - Катюша\n",
      "2 - Контрактный бластер\n",
      "3 - Толстяк\n",
      "4 - Плазменный бластер\n",
      "5 - Промышленная резка\n",
      "Введите индекс орудия для атаки: fdghdh\n"
     ]
    },
    {
     "ename": "ValueError",
     "evalue": "invalid literal for int() with base 10: 'fdghdh'",
     "output_type": "error",
     "traceback": [
      "\u001b[1;31m---------------------------------------------------------------------------\u001b[0m",
      "\u001b[1;31mValueError\u001b[0m                                Traceback (most recent call last)",
      "\u001b[1;32m<ipython-input-7-6550f1468a49>\u001b[0m in \u001b[0;36m<module>\u001b[1;34m\u001b[0m\n\u001b[0;32m      1\u001b[0m \u001b[0mtestBT3\u001b[0m\u001b[1;33m.\u001b[0m\u001b[0mset_slowRegenStatus\u001b[0m\u001b[1;33m(\u001b[0m\u001b[1;36m1\u001b[0m\u001b[1;33m)\u001b[0m\u001b[1;33m\u001b[0m\u001b[1;33m\u001b[0m\u001b[0m\n\u001b[1;32m----> 2\u001b[1;33m \u001b[0mtestBattle1ManualPC\u001b[0m\u001b[1;33m(\u001b[0m\u001b[0mtestBT6\u001b[0m\u001b[1;33m,\u001b[0m \u001b[0mtestBT3\u001b[0m\u001b[1;33m)\u001b[0m\u001b[1;33m\u001b[0m\u001b[1;33m\u001b[0m\u001b[0m\n\u001b[0m",
      "\u001b[1;32m<ipython-input-2-c77ef0f1b6a2>\u001b[0m in \u001b[0;36mtestBattle1ManualPC\u001b[1;34m(testBTfirst, testBTsecond)\u001b[0m\n\u001b[0;32m      4\u001b[0m \u001b[1;33m\u001b[0m\u001b[0m\n\u001b[0;32m      5\u001b[0m     \u001b[0mroundNum\u001b[0m \u001b[1;33m=\u001b[0m \u001b[1;36m0\u001b[0m\u001b[1;33m\u001b[0m\u001b[1;33m\u001b[0m\u001b[0m\n\u001b[1;32m----> 6\u001b[1;33m     \u001b[1;32mwhile\u001b[0m \u001b[0mbattleTest1\u001b[0m\u001b[1;33m.\u001b[0m\u001b[0mstartNewRound\u001b[0m\u001b[1;33m(\u001b[0m\u001b[1;33m)\u001b[0m\u001b[1;33m:\u001b[0m\u001b[1;33m\u001b[0m\u001b[1;33m\u001b[0m\u001b[0m\n\u001b[0m\u001b[0;32m      7\u001b[0m         \u001b[1;31m#print('###')\u001b[0m\u001b[1;33m\u001b[0m\u001b[1;33m\u001b[0m\u001b[1;33m\u001b[0m\u001b[0m\n\u001b[0;32m      8\u001b[0m         \u001b[1;31m#print()\u001b[0m\u001b[1;33m\u001b[0m\u001b[1;33m\u001b[0m\u001b[1;33m\u001b[0m\u001b[0m\n",
      "\u001b[1;32m~\\PycharmProjects\\BattleTechArena\\TestBattle.py\u001b[0m in \u001b[0;36mstartNewRound\u001b[1;34m(self)\u001b[0m\n\u001b[0;32m     55\u001b[0m \u001b[1;33m\u001b[0m\u001b[0m\n\u001b[0;32m     56\u001b[0m         \u001b[1;32melif\u001b[0m \u001b[0mbattleTech1Regime\u001b[0m \u001b[1;33m==\u001b[0m \u001b[1;34m'manual'\u001b[0m\u001b[1;33m:\u001b[0m\u001b[1;33m\u001b[0m\u001b[1;33m\u001b[0m\u001b[0m\n\u001b[1;32m---> 57\u001b[1;33m             \u001b[0mbattleTech1AttackDefend\u001b[0m \u001b[1;33m=\u001b[0m \u001b[0mself\u001b[0m\u001b[1;33m.\u001b[0m\u001b[0mmanualPiloting\u001b[0m\u001b[1;33m(\u001b[0m\u001b[0mbattleTech1\u001b[0m\u001b[1;33m)\u001b[0m\u001b[1;33m\u001b[0m\u001b[1;33m\u001b[0m\u001b[0m\n\u001b[0m\u001b[0;32m     58\u001b[0m \u001b[1;33m\u001b[0m\u001b[0m\n\u001b[0;32m     59\u001b[0m \u001b[1;33m\u001b[0m\u001b[0m\n",
      "\u001b[1;32m~\\PycharmProjects\\BattleTechArena\\TestBattle.py\u001b[0m in \u001b[0;36mmanualPiloting\u001b[1;34m(self, currentBattleTech)\u001b[0m\n\u001b[0;32m    348\u001b[0m \u001b[1;33m\u001b[0m\u001b[0m\n\u001b[0;32m    349\u001b[0m         \u001b[1;32mif\u001b[0m \u001b[0mactionChoiseKey\u001b[0m \u001b[1;33m==\u001b[0m \u001b[1;36m3\u001b[0m\u001b[1;33m:\u001b[0m\u001b[1;33m\u001b[0m\u001b[1;33m\u001b[0m\u001b[0m\n\u001b[1;32m--> 350\u001b[1;33m             \u001b[1;32mreturn\u001b[0m \u001b[0musual_attack_defend_actions\u001b[0m\u001b[1;33m(\u001b[0m\u001b[1;33m)\u001b[0m\u001b[1;33m\u001b[0m\u001b[1;33m\u001b[0m\u001b[0m\n\u001b[0m\u001b[0;32m    351\u001b[0m         \u001b[1;32melif\u001b[0m \u001b[0mactionChoiseKey\u001b[0m \u001b[1;33m==\u001b[0m \u001b[1;36m2\u001b[0m\u001b[1;33m:\u001b[0m\u001b[1;33m\u001b[0m\u001b[1;33m\u001b[0m\u001b[0m\n\u001b[0;32m    352\u001b[0m             \u001b[1;32mpass\u001b[0m\u001b[1;33m\u001b[0m\u001b[1;33m\u001b[0m\u001b[0m\n",
      "\u001b[1;32m~\\PycharmProjects\\BattleTechArena\\TestBattle.py\u001b[0m in \u001b[0;36musual_attack_defend_actions\u001b[1;34m()\u001b[0m\n\u001b[0;32m    321\u001b[0m                 \u001b[0mweaponName\u001b[0m \u001b[1;33m=\u001b[0m \u001b[0mweapon\u001b[0m\u001b[1;33m.\u001b[0m\u001b[0mget_name\u001b[0m\u001b[1;33m(\u001b[0m\u001b[1;33m)\u001b[0m\u001b[1;33m\u001b[0m\u001b[1;33m\u001b[0m\u001b[0m\n\u001b[0;32m    322\u001b[0m                 \u001b[0mprint\u001b[0m\u001b[1;33m(\u001b[0m\u001b[1;34mf'{weaponCounter} - {weaponName}'\u001b[0m\u001b[1;33m)\u001b[0m\u001b[1;33m\u001b[0m\u001b[1;33m\u001b[0m\u001b[0m\n\u001b[1;32m--> 323\u001b[1;33m             \u001b[0mchoisenWeaponIndex\u001b[0m \u001b[1;33m=\u001b[0m \u001b[0mint\u001b[0m\u001b[1;33m(\u001b[0m\u001b[0minput\u001b[0m\u001b[1;33m(\u001b[0m\u001b[1;34m'Введите индекс орудия для атаки: '\u001b[0m\u001b[1;33m)\u001b[0m\u001b[1;33m)\u001b[0m\u001b[1;33m\u001b[0m\u001b[1;33m\u001b[0m\u001b[0m\n\u001b[0m\u001b[0;32m    324\u001b[0m             \u001b[0mdamageChosen\u001b[0m \u001b[1;33m=\u001b[0m \u001b[0mcurrentBattleTech\u001b[0m\u001b[1;33m.\u001b[0m\u001b[0muse_weapon_by_lst_index\u001b[0m\u001b[1;33m(\u001b[0m\u001b[0mchoisenWeaponIndex\u001b[0m \u001b[1;33m-\u001b[0m \u001b[1;36m1\u001b[0m\u001b[1;33m)\u001b[0m\u001b[1;33m\u001b[0m\u001b[1;33m\u001b[0m\u001b[0m\n\u001b[0;32m    325\u001b[0m             \u001b[1;31m# choisenWeaponObj = weaponList[choisenWeaponIndex - 1]\u001b[0m\u001b[1;33m\u001b[0m\u001b[1;33m\u001b[0m\u001b[1;33m\u001b[0m\u001b[0m\n",
      "\u001b[1;31mValueError\u001b[0m: invalid literal for int() with base 10: 'fdghdh'"
     ]
    }
   ],
   "source": [
    "testBT3.set_slowRegenStatus(1)\n",
    "testBattle1ManualPC(testBT6, testBT3)"
   ]
  },
  {
   "cell_type": "code",
   "execution_count": 4,
   "metadata": {},
   "outputs": [
    {
     "name": "stdout",
     "output_type": "stream",
     "text": [
      "Unique ability requirements are complied!\n",
      "Stix использует уникальную способность!\n",
      "Weapon fail probs border: 0.077 Random probs got now: 0.70146\n",
      "Stix использует Крупнокалиберный пулемет!\n",
      "И собирается нанести 25 пунктов <phisical> урона!\n"
     ]
    },
    {
     "data": {
      "text/plain": [
       "('phisical', 25)"
      ]
     },
     "execution_count": 4,
     "metadata": {},
     "output_type": "execute_result"
    }
   ],
   "source": [
    "#testBT1.set_inactiveRounds(3)\n",
    "testBT1.set_inactiveRounds(0)\n",
    "testBT1.activateEnergyShield()\n",
    "testBT1.activatePhisicalShield()\n",
    "testBT1.activateUniqueAbility()\n",
    "testBT1.use_weapon_by_lst_index(0)"
   ]
  },
  {
   "cell_type": "code",
   "execution_count": 5,
   "metadata": {},
   "outputs": [
    {
     "name": "stdout",
     "output_type": "stream",
     "text": [
      "Ник:  Stix\n",
      "Выбранный тип BattleTech:  GLADIATOR\n",
      "Возраст:  3 лет\n",
      "Объем брони:  551 пунктов\n",
      "Стамина:  599 пунктов\n",
      "Энергия:  35 пунктов\n",
      "Боезапас ракет:  25 штук\n",
      "Боезапас патронов:  28 штук\n",
      "Скорость:  5 км/ч\n",
      "Слотов брони BattleTech:  4 штук\n",
      "Слотов оружия BattleTech:  5 штук\n",
      "Экипирована броня: ['', '', '']\n",
      "Экипировано оружие: ['Крупнокалиберный пулемет', 'Гаубица', 'Промышленная резка', 'Катюша']\n",
      "BattleTech пропускает ход следующие 0 раундов!\n",
      "Виден противником: Да\n",
      "Может использовать уникальную способность 0 раз\n",
      "Режим медленной регенерации: Выкл\n",
      "Может активировать режим медленной регенерации: 1 раз\n",
      "Закончил текущий раунд: Нет\n"
     ]
    }
   ],
   "source": [
    "testBT1.showAllAttrValues()"
   ]
  },
  {
   "cell_type": "code",
   "execution_count": 6,
   "metadata": {},
   "outputs": [
    {
     "name": "stdout",
     "output_type": "stream",
     "text": [
      "Stix активирует медленную регенерацию!\n",
      "True \n",
      "\n",
      "Zeus активирует медленную регенерацию!\n",
      "True \n",
      "\n",
      "Sparky активирует медленную регенерацию!\n",
      "True \n",
      "\n",
      "None \n",
      "\n",
      "Leviathan активирует медленную регенерацию!\n",
      "True \n",
      "\n",
      "Green Bug активирует медленную регенерацию!\n",
      "True \n",
      "\n",
      "Hornet активирует медленную регенерацию!\n",
      "True \n",
      "\n"
     ]
    }
   ],
   "source": [
    "for unitBT in allBTunitsLst:\n",
    "    print(unitBT.activateSlowRegen(), '\\n')\n",
    "    unitBT.set_endedCurrentRound(0)"
   ]
  },
  {
   "cell_type": "code",
   "execution_count": 7,
   "metadata": {},
   "outputs": [
    {
     "name": "stdout",
     "output_type": "stream",
     "text": [
      "Unique ability requirements are complied!\n",
      "Stix не может использовать уникальную способность!\n",
      "Reason: already used it!\n",
      "False \n",
      "\n",
      "Unique ability requirements are complied!\n",
      "Zeus использует уникальную способность!\n",
      "True \n",
      "\n",
      "Unique ability requirements are complied!\n",
      "Sparky использует уникальную способность!\n",
      "True \n",
      "\n",
      "Unique ability requirements are complied!\n",
      "Scout использует уникальную способность!\n",
      "True \n",
      "\n",
      "Unique ability requirements are complied!\n",
      "Leviathan использует уникальную способность!\n",
      "True \n",
      "\n",
      "Unique ability requirements are complied!\n",
      "Green Bug использует уникальную способность!\n",
      "True \n",
      "\n",
      "Unique ability requirements are complied!\n",
      "Hornet использует уникальную способность!\n",
      "True \n",
      "\n"
     ]
    }
   ],
   "source": [
    "for unitBT in allBTunitsLst:\n",
    "    print(unitBT.activateUniqueAbility(), '\\n')"
   ]
  },
  {
   "cell_type": "code",
   "execution_count": 5,
   "metadata": {},
   "outputs": [
    {
     "name": "stdout",
     "output_type": "stream",
     "text": [
      "Ник:  Stix\n",
      "Выбранный тип BattleTech:  GLADIATOR\n",
      "Возраст:  3 лет\n",
      "Объем брони:  0 пунктов\n",
      "Стамина:  366.34 пунктов\n",
      "Энергия:  35 пунктов\n",
      "Боезапас ракет:  24 штук\n",
      "Боезапас патронов:  25 штук\n",
      "Скорость:  5 км/ч\n",
      "Слотов брони BattleTech:  4 штук\n",
      "Слотов оружия BattleTech:  5 штук\n",
      "Экипирована броня: ['', '', '']\n",
      "Экипировано оружие: ['Крупнокалиберный пулемет', 'Гаубица', 'Промышленная резка', 'Катюша']\n",
      "BattleTech пропускает ход следующие 0 раундов!\n",
      "Виден противником: Да\n",
      "Может использовать уникальную способность 1 раз\n",
      "Режим медленной регенерации: Вкл\n",
      "Может активировать режим медленной регенерации: 1 раз\n",
      "Закончил текущий раунд: Нет\n",
      "None \n",
      "\n",
      "Ник:  Zeus\n",
      "Выбранный тип BattleTech:  GLADIATOR\n",
      "Возраст:  55 лет\n",
      "Объем брони:  900 пунктов\n",
      "Стамина:  499 пунктов\n",
      "Энергия:  30 пунктов\n",
      "Боезапас ракет:  25 штук\n",
      "Боезапас патронов:  39 штук\n",
      "Скорость:  15 км/ч\n",
      "Слотов брони BattleTech:  4 штук\n",
      "Слотов оружия BattleTech:  5 штук\n",
      "Экипирована броня: ['', '', '']\n",
      "Экипировано оружие: ['Крупнокалиберный пулемет', 'Гаубица', 'Плазменный бластер', 'Толстяк']\n",
      "BattleTech пропускает ход следующие 0 раундов!\n",
      "Виден противником: Да\n",
      "Может использовать уникальную способность 1 раз\n",
      "Режим медленной регенерации: Выкл\n",
      "Может активировать режим медленной регенерации: 1 раз\n",
      "Закончил текущий раунд: Нет\n",
      "None \n",
      "\n",
      "Ник:  Sparky\n",
      "Выбранный тип BattleTech:  INFERNO\n",
      "Возраст:  33 лет\n",
      "Объем брони:  500 пунктов\n",
      "Стамина:  499 пунктов\n",
      "Энергия:  49 пунктов\n",
      "Боезапас ракет:  10 штук\n",
      "Боезапас патронов:  30 штук\n",
      "Скорость:  45 км/ч\n",
      "Слотов брони BattleTech:  6 штук\n",
      "Слотов оружия BattleTech:  9 штук\n",
      "Экипирована броня: ['', '', '']\n",
      "Экипировано оружие: ['Станковый пулемет', 'Огнемет', 'Промышленная резка', 'Ракетная установка']\n",
      "BattleTech пропускает ход следующие 0 раундов!\n",
      "Виден противником: Да\n",
      "Может использовать уникальную способность 1 раз\n",
      "Режим медленной регенерации: Выкл\n",
      "Может активировать режим медленной регенерации: 1 раз\n",
      "Закончил текущий раунд: Нет\n",
      "None \n",
      "\n",
      "Ник:  Scout\n",
      "Выбранный тип BattleTech:  SHADOW\n",
      "Возраст:  11 лет\n",
      "Объем брони:  63 пунктов\n",
      "Стамина:  499 пунктов\n",
      "Энергия:  43 пунктов\n",
      "Боезапас ракет:  3 штук\n",
      "Боезапас патронов:  12 штук\n",
      "Скорость:  77 км/ч\n",
      "Слотов брони BattleTech:  2 штук\n",
      "Слотов оружия BattleTech:  3 штук\n",
      "Экипирована броня: ['', '']\n",
      "Экипировано оружие: ['Станковый пулемет', 'Контрактный бластер', 'Катюша']\n",
      "BattleTech пропускает ход следующие 0 раундов!\n",
      "Виден противником: Да\n",
      "Может использовать уникальную способность 1 раз\n",
      "Режим медленной регенерации: Вкл\n",
      "Может активировать режим медленной регенерации: 0 раз\n",
      "Закончил текущий раунд: Нет\n",
      "None \n",
      "\n",
      "Ник:  Leviathan\n",
      "Выбранный тип BattleTech:  INFERNO\n",
      "Возраст:  666 лет\n",
      "Объем брони:  666 пунктов\n",
      "Стамина:  666 пунктов\n",
      "Энергия:  66 пунктов\n",
      "Боезапас ракет:  66 штук\n",
      "Боезапас патронов:  66 штук\n",
      "Скорость:  9 км/ч\n",
      "Слотов брони BattleTech:  6 штук\n",
      "Слотов оружия BattleTech:  9 штук\n",
      "Экипирована броня: ['', '', '']\n",
      "Экипировано оружие: ['Крупнокалиберный пулемет', 'Огнемет', 'Плазменный бластер', 'Ракетная установка', 'Станковый пулемет', 'Промышленная резка', 'Катюша', 'Контрактный бластер', 'Толстяк']\n",
      "BattleTech пропускает ход следующие 0 раундов!\n",
      "Виден противником: Да\n",
      "Может использовать уникальную способность 1 раз\n",
      "Режим медленной регенерации: Выкл\n",
      "Может активировать режим медленной регенерации: 1 раз\n",
      "Закончил текущий раунд: Нет\n",
      "None \n",
      "\n",
      "Ник:  Green Bug\n",
      "Выбранный тип BattleTech:  MANTIS\n",
      "Возраст:  79 лет\n",
      "Объем брони:  299 пунктов\n",
      "Стамина:  999 пунктов\n",
      "Энергия:  111 пунктов\n",
      "Боезапас ракет:  15 штук\n",
      "Боезапас патронов:  45 штук\n",
      "Скорость:  37 км/ч\n",
      "Слотов брони BattleTech:  3 штук\n",
      "Слотов оружия BattleTech:  5 штук\n",
      "Экипирована броня: ['', '']\n",
      "Экипировано оружие: ['Катюша', 'Контрактный бластер', 'Толстяк', 'Плазменный бластер', 'Промышленная резка']\n",
      "BattleTech пропускает ход следующие 0 раундов!\n",
      "Виден противником: Да\n",
      "Может использовать уникальную способность 1 раз\n",
      "Режим медленной регенерации: Выкл\n",
      "Может активировать режим медленной регенерации: 1 раз\n",
      "Закончил текущий раунд: Нет\n",
      "None \n",
      "\n",
      "Ник:  Hornet\n",
      "Выбранный тип BattleTech:  WASP\n",
      "Возраст:  5 лет\n",
      "Объем брони:  355 пунктов\n",
      "Стамина:  599 пунктов\n",
      "Энергия:  99 пунктов\n",
      "Боезапас ракет:  0 штук\n",
      "Боезапас патронов:  55 штук\n",
      "Скорость:  89 км/ч\n",
      "Слотов брони BattleTech:  2 штук\n",
      "Слотов оружия BattleTech:  3 штук\n",
      "Экипирована броня: ['', '']\n",
      "Экипировано оружие: ['Станковый пулемет', 'Контрактный бластер', 'Крупнокалиберный пулемет']\n",
      "BattleTech пропускает ход следующие 0 раундов!\n",
      "Виден противником: Да\n",
      "Может использовать уникальную способность 1 раз\n",
      "Режим медленной регенерации: Выкл\n",
      "Может активировать режим медленной регенерации: 1 раз\n",
      "Закончил текущий раунд: Нет\n",
      "None \n",
      "\n"
     ]
    }
   ],
   "source": [
    "for unitBT in allBTunitsLst:\n",
    "    print(unitBT.showAllAttrValues(), '\\n')"
   ]
  },
  {
   "cell_type": "markdown",
   "metadata": {},
   "source": [
    "ТЕСТИРОВАНИЕ ПРОЙДЕНО!"
   ]
  },
  {
   "cell_type": "code",
   "execution_count": 10,
   "metadata": {},
   "outputs": [],
   "source": [
    "rocketLauncher3.set_activeStatus(0)"
   ]
  },
  {
   "cell_type": "code",
   "execution_count": 12,
   "metadata": {},
   "outputs": [
    {
     "name": "stdout",
     "output_type": "stream",
     "text": [
      "Weapon fail probs border: 0.287 Random probs got now: 0.1501\n",
      "Green Bug пытается использовать Катюша!\n",
      "Орудие выведено из строя!\n"
     ]
    },
    {
     "data": {
      "text/plain": [
       "('', 0)"
      ]
     },
     "execution_count": 12,
     "metadata": {},
     "output_type": "execute_result"
    }
   ],
   "source": [
    "testBT6.set_endedCurrentRound(0)\n",
    "testBT6.use_weapon_by_lst_index(0)"
   ]
  }
 ],
 "metadata": {
  "kernelspec": {
   "display_name": "Python 3",
   "language": "python",
   "name": "python3"
  },
  "language_info": {
   "codemirror_mode": {
    "name": "ipython",
    "version": 3
   },
   "file_extension": ".py",
   "mimetype": "text/x-python",
   "name": "python",
   "nbconvert_exporter": "python",
   "pygments_lexer": "ipython3",
   "version": "3.8.3"
  }
 },
 "nbformat": 4,
 "nbformat_minor": 4
}
